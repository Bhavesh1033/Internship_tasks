{
  "nbformat": 4,
  "nbformat_minor": 0,
  "metadata": {
    "colab": {
      "name": "Internship_Code.ipynb",
      "provenance": [],
      "collapsed_sections": []
    },
    "kernelspec": {
      "name": "python3",
      "display_name": "Python 3"
    },
    "language_info": {
      "name": "python"
    }
  },
  "cells": [
    {
      "cell_type": "markdown",
      "metadata": {
        "id": "96pdeH1JwkMK"
      },
      "source": [
        "## Task 1 : #takes 2 strings: \"79-900\" and \"80-155\" and returns a list of codes in between\n"
      ]
    },
    {
      "cell_type": "code",
      "metadata": {
        "id": "uxbwE8uUul11"
      },
      "source": [
        "#Function takes two string input for zip code\n",
        "\n",
        "def zipCodeGenerator(number1, number2):\n",
        "\n",
        "#created variables to convert and store number\n",
        "  number1 = int(str1[0:2] + str1[-3:])\n",
        "  number2 = int(str(str2[0:2] + str2[-3:]))\n",
        "\n",
        "#Empty list created to store new zip codes  \n",
        "  list =[]\n",
        "  for i in range(number1+1,number2):\n",
        "    temp = str(i)\n",
        "    temp1 = temp[0:2] + \"-\" + temp[-3:]\n",
        "    list.append(temp1)\n",
        "  return list"
      ],
      "execution_count": null,
      "outputs": []
    },
    {
      "cell_type": "code",
      "metadata": {
        "colab": {
          "base_uri": "https://localhost:8080/"
        },
        "id": "5L7H18VLwLbe",
        "outputId": "b4e2e42a-fd00-4f9a-8727-0b9b1550c29a"
      },
      "source": [
        "print(zipCodeGenerator(\"79-900\",\"80-155\"))"
      ],
      "execution_count": null,
      "outputs": [
        {
          "output_type": "stream",
          "text": [
            "['79-901', '79-902', '79-903', '79-904', '79-905', '79-906', '79-907', '79-908', '79-909', '79-910', '79-911', '79-912', '79-913', '79-914', '79-915', '79-916', '79-917', '79-918', '79-919', '79-920', '79-921', '79-922', '79-923', '79-924', '79-925', '79-926', '79-927', '79-928', '79-929', '79-930', '79-931', '79-932', '79-933', '79-934', '79-935', '79-936', '79-937', '79-938', '79-939', '79-940', '79-941', '79-942', '79-943', '79-944', '79-945', '79-946', '79-947', '79-948', '79-949', '79-950', '79-951', '79-952', '79-953', '79-954', '79-955', '79-956', '79-957', '79-958', '79-959', '79-960', '79-961', '79-962', '79-963', '79-964', '79-965', '79-966', '79-967', '79-968', '79-969', '79-970', '79-971', '79-972', '79-973', '79-974', '79-975', '79-976', '79-977', '79-978', '79-979', '79-980', '79-981', '79-982', '79-983', '79-984', '79-985', '79-986', '79-987', '79-988', '79-989', '79-990', '79-991', '79-992', '79-993', '79-994', '79-995', '79-996', '79-997', '79-998', '79-999', '80-000', '80-001', '80-002', '80-003', '80-004', '80-005', '80-006', '80-007', '80-008', '80-009', '80-010', '80-011', '80-012', '80-013', '80-014', '80-015', '80-016', '80-017', '80-018', '80-019', '80-020', '80-021', '80-022', '80-023', '80-024', '80-025', '80-026', '80-027', '80-028', '80-029', '80-030', '80-031', '80-032', '80-033', '80-034', '80-035', '80-036', '80-037', '80-038', '80-039', '80-040', '80-041', '80-042', '80-043', '80-044', '80-045', '80-046', '80-047', '80-048', '80-049', '80-050', '80-051', '80-052', '80-053', '80-054', '80-055', '80-056', '80-057', '80-058', '80-059', '80-060', '80-061', '80-062', '80-063', '80-064', '80-065', '80-066', '80-067', '80-068', '80-069', '80-070', '80-071', '80-072', '80-073', '80-074', '80-075', '80-076', '80-077', '80-078', '80-079', '80-080', '80-081', '80-082', '80-083', '80-084', '80-085', '80-086', '80-087', '80-088', '80-089', '80-090', '80-091', '80-092', '80-093', '80-094', '80-095', '80-096', '80-097', '80-098', '80-099', '80-100', '80-101', '80-102', '80-103', '80-104', '80-105', '80-106', '80-107', '80-108', '80-109', '80-110', '80-111', '80-112', '80-113', '80-114', '80-115', '80-116', '80-117', '80-118', '80-119', '80-120', '80-121', '80-122', '80-123', '80-124', '80-125', '80-126', '80-127', '80-128', '80-129', '80-130', '80-131', '80-132', '80-133', '80-134', '80-135', '80-136', '80-137', '80-138', '80-139', '80-140', '80-141', '80-142', '80-143', '80-144', '80-145', '80-146', '80-147', '80-148', '80-149', '80-150', '80-151', '80-152', '80-153', '80-154']\n"
          ],
          "name": "stdout"
        }
      ]
    },
    {
      "cell_type": "markdown",
      "metadata": {
        "id": "iyWMC3-ETXU8"
      },
      "source": [
        "## TASK 2. THERE IS A LIST OF ITEMS WITH 1-n VALUES. WRITE A FUNCTION THAT WILL CHECK WHAT IT IS MISSING\n",
        "1-n = [1,2,3,4,5, ..., 10]\n",
        "e.g. n = 10\n",
        "input: [2,3,7,4,9], 10\n",
        "output: [1,5,6, 8.10]\n",
        "\n"
      ]
    },
    {
      "cell_type": "code",
      "metadata": {
        "id": "_fk8yhEwwR1z"
      },
      "source": [
        "def missingValue():\n",
        "  list = []\n",
        "  #takes input from user to create a main list\n",
        "  number = int(input(\"Please enter any number: \"))\n",
        "  for i in range(1,number+1):\n",
        "    list.append(i)\n",
        "  \n",
        "  #takes input from used to create a inputList\n",
        "  inputList=[]\n",
        "  print(\"Please enter 5 values between 1 and\",number)\n",
        "  \n",
        "  for i in range(5):\n",
        "    userInput = int(input(\"Please enter value: \"))\n",
        "    inputList.append(userInput)\n",
        "\n",
        "  #this loop will give the output result of missing values\n",
        "  outputList = []\n",
        "\n",
        "  for i in list:\n",
        "    if i not in inputList:\n",
        "      outputList.append(i)\n",
        "  \n",
        "  print(\"Main List :\",list)\n",
        "  print(\"Input List :\", inputList)\n",
        "  print(\"Output List :\" , outputList)"
      ],
      "execution_count": 8,
      "outputs": []
    },
    {
      "cell_type": "code",
      "metadata": {
        "colab": {
          "base_uri": "https://localhost:8080/"
        },
        "id": "-gK0aZywVwww",
        "outputId": "bd3962ba-8704-494a-da49-da0b2f8a7588"
      },
      "source": [
        "missingValue()"
      ],
      "execution_count": 9,
      "outputs": [
        {
          "output_type": "stream",
          "text": [
            "Please enter any number: 10\n",
            "Please enter 5 values between 1 and 10\n",
            "Please enter value: 2\n",
            "Please enter value: 3\n",
            "Please enter value: 7\n",
            "Please enter value: 4\n",
            "Please enter value: 9\n",
            "Main List : [1, 2, 3, 4, 5, 6, 7, 8, 9, 10]\n",
            "Input List : [2, 3, 7, 4, 9]\n",
            "Output List : [1, 5, 6, 8, 10]\n"
          ],
          "name": "stdout"
        }
      ]
    },
    {
      "cell_type": "markdown",
      "metadata": {
        "id": "EQHGz5y0fYBx"
      },
      "source": [
        "## TASK 3. THE LIST OF NUMBERS FROM 2 TO 5.5 SHOULD BE GENERATED BY EVERY 0.5, THE RESULT DATA MUST BE DECIMAL."
      ]
    },
    {
      "cell_type": "code",
      "metadata": {
        "id": "KA6bEFO_faPb"
      },
      "source": [
        "def listGeneration():\n",
        "  list = []\n",
        "  for i in range(4,12):\n",
        "    list.append(i*0.5)\n",
        "  print(\"List created at every 0.5 element \", list)"
      ],
      "execution_count": 24,
      "outputs": []
    },
    {
      "cell_type": "code",
      "metadata": {
        "colab": {
          "base_uri": "https://localhost:8080/"
        },
        "id": "cKzg0rG1i9kN",
        "outputId": "3ec0f7fd-e999-4380-8d68-254e37e606ff"
      },
      "source": [
        "listGeneration()"
      ],
      "execution_count": 25,
      "outputs": [
        {
          "output_type": "stream",
          "text": [
            "List created at every 0.5 element  [2.0, 2.5, 3.0, 3.5, 4.0, 4.5, 5.0, 5.5]\n"
          ],
          "name": "stdout"
        }
      ]
    }
  ]
}